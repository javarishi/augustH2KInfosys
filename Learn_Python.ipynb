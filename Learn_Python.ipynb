{
 "cells": [
  {
   "cell_type": "code",
   "execution_count": 2,
   "id": "2fdf872d",
   "metadata": {},
   "outputs": [
    {
     "name": "stdout",
     "output_type": "stream",
     "text": [
      "Hello World\n"
     ]
    }
   ],
   "source": [
    "print(\"Hello World\")"
   ]
  },
  {
   "cell_type": "code",
   "execution_count": 4,
   "id": "7eb32be1",
   "metadata": {},
   "outputs": [
    {
     "name": "stdout",
     "output_type": "stream",
     "text": [
      "Hello World\n"
     ]
    }
   ],
   "source": [
    "print('Hello World')"
   ]
  },
  {
   "cell_type": "code",
   "execution_count": 5,
   "id": "70b5913e",
   "metadata": {},
   "outputs": [
    {
     "name": "stdout",
     "output_type": "stream",
     "text": [
      "Hello  Rishi\n"
     ]
    }
   ],
   "source": [
    "name = \"Rishi\"\n",
    "print (\"Hello \", name)"
   ]
  },
  {
   "cell_type": "code",
   "execution_count": 6,
   "id": "ca5bc9d0",
   "metadata": {},
   "outputs": [
    {
     "data": {
      "text/plain": [
       "str"
      ]
     },
     "execution_count": 6,
     "metadata": {},
     "output_type": "execute_result"
    }
   ],
   "source": [
    "type(name)"
   ]
  },
  {
   "cell_type": "code",
   "execution_count": 8,
   "id": "bd6da1b4",
   "metadata": {},
   "outputs": [
    {
     "name": "stdout",
     "output_type": "stream",
     "text": [
      "<class 'int'> 140726427920816\n"
     ]
    }
   ],
   "source": [
    "age = 21\n",
    "print(type(age), id(age))"
   ]
  },
  {
   "cell_type": "code",
   "execution_count": 10,
   "id": "e0765cf9",
   "metadata": {},
   "outputs": [
    {
     "name": "stdout",
     "output_type": "stream",
     "text": [
      "Please provide your address:Some Address\n",
      "<class 'str'>\n",
      "Mailer has sent to  Some Address\n"
     ]
    }
   ],
   "source": [
    "address = input(\"Please provide your address:\")\n",
    "print(type(address))\n",
    "print(\"Mailer has sent to \", address)"
   ]
  },
  {
   "cell_type": "code",
   "execution_count": 11,
   "id": "6c2a2be9",
   "metadata": {},
   "outputs": [
    {
     "name": "stdout",
     "output_type": "stream",
     "text": [
      "100 99.99 False Python\n"
     ]
    }
   ],
   "source": [
    "int_var = 100\n",
    "float_var = 99.99\n",
    "boolean_var = False\n",
    "str_var = \"Python\"\n",
    "\n",
    "print(int_var, float_var, boolean_var, str_var)"
   ]
  },
  {
   "cell_type": "code",
   "execution_count": 13,
   "id": "362e8520",
   "metadata": {},
   "outputs": [
    {
     "name": "stdout",
     "output_type": "stream",
     "text": [
      "100 1000\n"
     ]
    }
   ],
   "source": [
    "_ = 100\n",
    "__ = 1000\n",
    "print(_, __)"
   ]
  },
  {
   "cell_type": "code",
   "execution_count": 15,
   "id": "39acdb80",
   "metadata": {},
   "outputs": [
    {
     "name": "stdout",
     "output_type": "stream",
     "text": [
      "21\n"
     ]
    }
   ],
   "source": [
    "age21 = 21\n",
    "\n",
    "print(age21)"
   ]
  },
  {
   "cell_type": "code",
   "execution_count": 16,
   "id": "4f494895",
   "metadata": {},
   "outputs": [
    {
     "name": "stdout",
     "output_type": "stream",
     "text": [
      "21 22 23\n"
     ]
    }
   ],
   "source": [
    "age = 21\n",
    "Age = 22\n",
    "AGE = 23\n",
    "print(age, Age, AGE)"
   ]
  },
  {
   "cell_type": "code",
   "execution_count": null,
   "id": "2feaad93",
   "metadata": {},
   "outputs": [],
   "source": []
  }
 ],
 "metadata": {
  "kernelspec": {
   "display_name": "Python 3",
   "language": "python",
   "name": "python3"
  },
  "language_info": {
   "codemirror_mode": {
    "name": "ipython",
    "version": 3
   },
   "file_extension": ".py",
   "mimetype": "text/x-python",
   "name": "python",
   "nbconvert_exporter": "python",
   "pygments_lexer": "ipython3",
   "version": "3.8.8"
  }
 },
 "nbformat": 4,
 "nbformat_minor": 5
}
